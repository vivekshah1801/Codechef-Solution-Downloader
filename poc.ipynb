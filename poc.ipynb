{
 "cells": [
  {
   "cell_type": "code",
   "execution_count": 122,
   "metadata": {},
   "outputs": [],
   "source": [
    "from bs4 import BeautifulSoup\n",
    "import requests\n",
    "import re\n",
    "import json"
   ]
  },
  {
   "cell_type": "code",
   "execution_count": 74,
   "metadata": {},
   "outputs": [],
   "source": [
    "url = \"https://www.codechef.com/viewsolution/16589289\""
   ]
  },
  {
   "cell_type": "code",
   "execution_count": 75,
   "metadata": {},
   "outputs": [],
   "source": [
    "with requests.Session() as session:\n",
    "    session.headers.update({'User-Agent': 'Mozilla/5.0 (X11; Linux x86_64) AppleWebKit/537.36 (KHTML, like Gecko) Chrome/86.0.4240.75 Safari/537.36'})\n",
    "    page = session.get(url_solution, proxies=proxies).text"
   ]
  },
  {
   "cell_type": "code",
   "execution_count": 141,
   "metadata": {},
   "outputs": [],
   "source": [
    "soup = BeautifulSoup(page, 'lxml')"
   ]
  },
  {
   "cell_type": "code",
   "execution_count": 157,
   "metadata": {},
   "outputs": [
    {
     "data": {
      "text/plain": [
       "'var meta_info = {\"status\":\"ok\",\"data\":{\"solutionId\":\"16589289\",\"problemCode\":\"FLOW002\",\"contestCode\":\"\",\"submissionDate\":\"16-12-2017 23:21:53\",\"solutionOwnerId\":\"1295538\",\"solutionOwnerHandle\":\"vivekshah1801\",\"solutionTeamHandle\":null,\"languageShortName\":\"C\",\"solutionMemory\":\"10.1M\",\"solutionTime\":\"0.00\",\"solutionResult\":\"AC\",\"isSolutionDisqualified\":\"0\",\"humanReadableResult\":\"Accepted\",\"problemUrl\":\"\\\\/problems\\\\/FLOW002\",\"isPracticeContest\":1,\"practiceCodeDecorated\":\"Practice(school)\",\"contestUrl\":\"\\\\/problems\\\\/school\",\"submitUrl\":\"\\\\/submit\\\\/FLOW002\",\"testInfo\":\"\",\"psInfo\":\"\",\"id\":\"16589289\",\"plaintext\":\"#include<stdio.h>\\\\nint main()\\\\n{\\\\n\\\\tint i,t,a,b;\\\\n\\\\tscanf(\\\\\"%d\\\\\",&t);\\\\n\\\\tfor(i=1;i<=t;i++)\\\\n\\\\t{\\\\n\\\\t\\\\tscanf(\\\\\"%d %d\\\\\",&a,&b);\\\\n\\\\t\\\\tprintf(\\\\\"%d\\\\\\\\n\\\\\", a%b);\\\\n\\\\t}\\\\n\\\\treturn 0;\\\\n} \",\"loc\":12,\"languageId\":\"11\",\"languageName\":\"C\",\"languageExtension\":\"c\",\"withoutTemplateCode\":\"#include<stdio.h>\\\\nint main()\\\\n{\\\\n\\\\tint i,t,a,b;\\\\n\\\\tscanf(\\\\\"%d\\\\\",&t);\\\\n\\\\tfor(i=1;i<=t;i++)\\\\n\\\\t{\\\\n\\\\t\\\\tscanf(\\\\\"%d %d\\\\\",&a,&b);\\\\n\\\\t\\\\tprintf(\\\\\"%d\\\\\\\\n\\\\\", a%b);\\\\n\\\\t}\\\\n\\\\treturn 0;\\\\n} \",\"isFunnyMode\":false}};'"
      ]
     },
     "execution_count": 157,
     "metadata": {},
     "output_type": "execute_result"
    }
   ],
   "source": [
    "metadata = soup.find_all(\"script\",text=re.compile('meta_info'))[0].contents[0].strip()\n",
    "metadata"
   ]
  },
  {
   "cell_type": "code",
   "execution_count": 158,
   "metadata": {},
   "outputs": [
    {
     "data": {
      "text/plain": [
       "True"
      ]
     },
     "execution_count": 158,
     "metadata": {},
     "output_type": "execute_result"
    }
   ],
   "source": [
    "metadata.startswith(\"var meta_info = \")"
   ]
  },
  {
   "cell_type": "code",
   "execution_count": 159,
   "metadata": {},
   "outputs": [
    {
     "data": {
      "text/plain": [
       "'{\"status\":\"ok\",\"data\":{\"solutionId\":\"16589289\",\"problemCode\":\"FLOW002\",\"contestCode\":\"\",\"submissionDate\":\"16-12-2017 23:21:53\",\"solutionOwnerId\":\"1295538\",\"solutionOwnerHandle\":\"vivekshah1801\",\"solutionTeamHandle\":null,\"languageShortName\":\"C\",\"solutionMemory\":\"10.1M\",\"solutionTime\":\"0.00\",\"solutionResult\":\"AC\",\"isSolutionDisqualified\":\"0\",\"humanReadableResult\":\"Accepted\",\"problemUrl\":\"\\\\/problems\\\\/FLOW002\",\"isPracticeContest\":1,\"practiceCodeDecorated\":\"Practice(school)\",\"contestUrl\":\"\\\\/problems\\\\/school\",\"submitUrl\":\"\\\\/submit\\\\/FLOW002\",\"testInfo\":\"\",\"psInfo\":\"\",\"id\":\"16589289\",\"plaintext\":\"#include<stdio.h>\\\\nint main()\\\\n{\\\\n\\\\tint i,t,a,b;\\\\n\\\\tscanf(\\\\\"%d\\\\\",&t);\\\\n\\\\tfor(i=1;i<=t;i++)\\\\n\\\\t{\\\\n\\\\t\\\\tscanf(\\\\\"%d %d\\\\\",&a,&b);\\\\n\\\\t\\\\tprintf(\\\\\"%d\\\\\\\\n\\\\\", a%b);\\\\n\\\\t}\\\\n\\\\treturn 0;\\\\n} \",\"loc\":12,\"languageId\":\"11\",\"languageName\":\"C\",\"languageExtension\":\"c\",\"withoutTemplateCode\":\"#include<stdio.h>\\\\nint main()\\\\n{\\\\n\\\\tint i,t,a,b;\\\\n\\\\tscanf(\\\\\"%d\\\\\",&t);\\\\n\\\\tfor(i=1;i<=t;i++)\\\\n\\\\t{\\\\n\\\\t\\\\tscanf(\\\\\"%d %d\\\\\",&a,&b);\\\\n\\\\t\\\\tprintf(\\\\\"%d\\\\\\\\n\\\\\", a%b);\\\\n\\\\t}\\\\n\\\\treturn 0;\\\\n} \",\"isFunnyMode\":false}};'"
      ]
     },
     "execution_count": 159,
     "metadata": {},
     "output_type": "execute_result"
    }
   ],
   "source": [
    "metadata = re.sub(r\"^var meta_info = \",\"\", metadata)\n",
    "metadata"
   ]
  },
  {
   "cell_type": "code",
   "execution_count": 162,
   "metadata": {},
   "outputs": [
    {
     "data": {
      "text/plain": [
       "'{\"status\":\"ok\",\"data\":{\"solutionId\":\"16589289\",\"problemCode\":\"FLOW002\",\"contestCode\":\"\",\"submissionDate\":\"16-12-2017 23:21:53\",\"solutionOwnerId\":\"1295538\",\"solutionOwnerHandle\":\"vivekshah1801\",\"solutionTeamHandle\":null,\"languageShortName\":\"C\",\"solutionMemory\":\"10.1M\",\"solutionTime\":\"0.00\",\"solutionResult\":\"AC\",\"isSolutionDisqualified\":\"0\",\"humanReadableResult\":\"Accepted\",\"problemUrl\":\"\\\\/problems\\\\/FLOW002\",\"isPracticeContest\":1,\"practiceCodeDecorated\":\"Practice(school)\",\"contestUrl\":\"\\\\/problems\\\\/school\",\"submitUrl\":\"\\\\/submit\\\\/FLOW002\",\"testInfo\":\"\",\"psInfo\":\"\",\"id\":\"16589289\",\"plaintext\":\"#include<stdio.h>\\\\nint main()\\\\n{\\\\n\\\\tint i,t,a,b;\\\\n\\\\tscanf(\\\\\"%d\\\\\",&t);\\\\n\\\\tfor(i=1;i<=t;i++)\\\\n\\\\t{\\\\n\\\\t\\\\tscanf(\\\\\"%d %d\\\\\",&a,&b);\\\\n\\\\t\\\\tprintf(\\\\\"%d\\\\\\\\n\\\\\", a%b);\\\\n\\\\t}\\\\n\\\\treturn 0;\\\\n} \",\"loc\":12,\"languageId\":\"11\",\"languageName\":\"C\",\"languageExtension\":\"c\",\"withoutTemplateCode\":\"#include<stdio.h>\\\\nint main()\\\\n{\\\\n\\\\tint i,t,a,b;\\\\n\\\\tscanf(\\\\\"%d\\\\\",&t);\\\\n\\\\tfor(i=1;i<=t;i++)\\\\n\\\\t{\\\\n\\\\t\\\\tscanf(\\\\\"%d %d\\\\\",&a,&b);\\\\n\\\\t\\\\tprintf(\\\\\"%d\\\\\\\\n\\\\\", a%b);\\\\n\\\\t}\\\\n\\\\treturn 0;\\\\n} \",\"isFunnyMode\":false}}'"
      ]
     },
     "execution_count": 162,
     "metadata": {},
     "output_type": "execute_result"
    }
   ],
   "source": [
    "metadata = re.sub(r\";$\",\"\", metadata)\n",
    "metadata"
   ]
  },
  {
   "cell_type": "code",
   "execution_count": 172,
   "metadata": {},
   "outputs": [
    {
     "name": "stdout",
     "output_type": "stream",
     "text": [
      "#include<stdio.h>\n",
      "int main()\n",
      "{\n",
      "\tint i,t,a,b;\n",
      "\tscanf(\"%d\",&t);\n",
      "\tfor(i=1;i<=t;i++)\n",
      "\t{\n",
      "\t\tscanf(\"%d %d\",&a,&b);\n",
      "\t\tprintf(\"%d\\n\", a%b);\n",
      "\t}\n",
      "\treturn 0;\n",
      "} \n"
     ]
    }
   ],
   "source": [
    "print(json.loads(metadata)['data']['plaintext'])"
   ]
  }
 ],
 "metadata": {
  "kernelspec": {
   "display_name": "Python 3",
   "language": "python",
   "name": "python3"
  },
  "language_info": {
   "codemirror_mode": {
    "name": "ipython",
    "version": 3
   },
   "file_extension": ".py",
   "mimetype": "text/x-python",
   "name": "python",
   "nbconvert_exporter": "python",
   "pygments_lexer": "ipython3",
   "version": "3.6.9"
  }
 },
 "nbformat": 4,
 "nbformat_minor": 4
}
